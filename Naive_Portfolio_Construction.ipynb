{
  "nbformat": 4,
  "nbformat_minor": 0,
  "metadata": {
    "colab": {
      "name": "Naive Portfolio Construction",
      "provenance": [],
      "collapsed_sections": []
    },
    "kernelspec": {
      "display_name": "Python 3",
      "name": "python3"
    }
  },
  "cells": [
    {
      "cell_type": "code",
      "metadata": {
        "id": "cfhYz0J8LsGZ"
      },
      "source": [
        "pip install yfinance"
      ],
      "execution_count": null,
      "outputs": []
    },
    {
      "cell_type": "code",
      "metadata": {
        "id": "4Vtuz73Cp1sN"
      },
      "source": [
        "pip install gspread oauth2client"
      ],
      "execution_count": null,
      "outputs": []
    },
    {
      "cell_type": "code",
      "metadata": {
        "id": "8JdH3wRQFPqP"
      },
      "source": [
        "from google.colab import files\n",
        "uploaded = files.upload()"
      ],
      "execution_count": null,
      "outputs": []
    },
    {
      "cell_type": "markdown",
      "metadata": {
        "id": "PdRW7SM8iD73"
      },
      "source": [
        "Lists of stocks and ETFs to analyze"
      ]
    },
    {
      "cell_type": "code",
      "metadata": {
        "id": "VjTlBZr_ag89"
      },
      "source": [
        "growth_etf_list = [ \"ARKK\" , \"VBK\", \"GBUY\", \"QMOM\", \"ARKQ\", \"PRNT\", \"POTX\", \"QTEC\", \"DWAS\", \"RFG\"]\n",
        "largecap_growth_etf_list = [\"arkw\", \"arkf\", \"socl\" , \"buyz\",\"entr\",\"ffty\",\"gbgr\",\"vti\",\"ivv\",\"hero\",\"geny\",\"fpx\",\"qqqj\"]\n",
        "defensives_etf_list = [\"xlu\",\"xlp\",\"icf\",\"usmv\",\"lvhd\",\"vig\",\"xop\",\"xlv\",\"ihi\",\"cnbs\",\"ihf\"]\n",
        "commodities = [ \"gdx\",\"gdxj\",\"remx\",\"vaw\",\"sil\"]\n",
        "fintech = [\"arkf\",\"finx\",\"tpay\",\"ipay\"]\n",
        "renewables = [\"icln\",\"cnrg\",\"tan\",\"qcln\",\"grid\"]\n",
        "ecommerce = [\"emqq\",\"ebiz\",\"onln\",\"ibuy\",\"pscd\"]\n",
        "growth_list = ['ENPH', 'AVTR', 'TSM', 'AMAT', 'MRVL', 'SQ', 'MDB', 'ROKU', 'SHOP', 'ZS', 'TSLA', 'ASML', 'GOOG', 'MPWR', 'APPS', 'GOOGL', 'TWLO', 'CRWD', 'MSFT', 'AAPL', 'SPOT', 'PSTG', 'ZG', 'NVTA', 'NVDA', 'EXAS', 'CRSP', 'Z', 'PRLB', 'TWST', 'CTLT', 'ZEN', 'HZNP', 'NVCR', 'CZR', 'TDY', 'POOL', 'CDAY', 'FICO', 'GSX', 'INTC', 'FATE', 'EXPI', 'CDNA', 'TGTX', 'PTON', 'MTLS', 'TRMB', 'DE', 'KTOS', 'NXPI', 'IRDM', 'NNDM', 'BYDDY', 'AVAV', 'CAT', 'DDD', 'SSYS', 'HPQ', 'PTC', 'DM', 'DSY', 'ACB', 'CRON', 'WEED', 'HEXO', 'GWPH', 'XLY', 'AH', 'CRBP', 'YCBD', 'CWEB', 'TGOD', 'CAN', 'VLNS', 'MU', 'LRCX', 'KLAC', 'QCOM', 'MXIM', 'SWKS', 'ADI', 'MCHP', 'FLGT', 'HSKA', 'FRPT', 'RCM', 'PACB', 'XPEL', 'REGI', 'AMRC', 'INFU', 'MRSN', 'RGEN', 'QDEL', 'RH', 'SEDG', 'SMG', 'BHF', 'GNRC', 'AAXN', 'BRKS', 'EBS', 'SAM', 'BLD', 'GRWG', 'TDOC', 'APHA', 'MELI', 'Z', 'BABA', 'RUN', 'SPWR', 'PLUG', 'ETSY', 'JD', 'AMZN', 'BIDU']\n",
        "largecap_growth_list = ['GBTC', 'SQ', 'TDOC', 'ROKU', 'SPOT', 'SHOP', 'TCEHY', 'API', 'Z', 'NFLX', 'OPEN', 'PYPL', 'TWTR', 'TWLO', 'SI', 'PINS', 'SE', 'MELI', 'ICE', 'ADYEN', 'BABA', '3690', '9923', '700', 'BIDU', 'FB', 'MTCH', '035420', 'BILI', 'NTES', 'GOOGL', 'YNDX', 'IAC', '035720', 'AMZN', 'COUP', 'DOCU', 'PDD', 'ADYEY', 'AVLR', 'ZG', 'FUTU', 'PSTG', 'EXAS', 'NVTA', 'FVRR', 'NIU', 'TSLA', 'QFIN', 'APPS', 'ATKR', 'AMAT', 'LOGN', 'ETSY', 'CROX', 'HZO', 'TTD', 'LGND', 'TSM', 'ASML', 'MPWR', 'MDB', 'VHC', 'SMAR', 'ZS', 'TENB', 'DDOG', 'QUOT', 'EXTR', 'CMTL', 'AVGO', 'EVER', 'APPN', 'IDCC', 'MSFT', 'GOOG', 'JNJ', 'BRK.B', 'JPM', 'V', 'PG', 'UNH', 'DIS', 'MA', 'NVDA', 'ATVI', 'EA', '7974', 'ZNGA', 'EMBRAC.B', '036570', '9697', '9766', 'TTWO', '3659', 'UBI', 'SNAP', 'AAPL', 'DFS', 'YY', '2331', 'CMG', 'ZAL', 'UBER', 'MRVL', 'TMO', 'LLY', 'DOW', 'CRWD', 'FIS', 'ZM', 'CVNA', 'CTVA', 'CHWY', 'AVTR', 'VIAC', 'FTNT', 'ENPH', 'ZBRA', 'AZN', 'GRMN', 'ODFL']\n",
        "defensives_list = ['GRWG', 'KR', 'NEM', 'TDOC', 'GIS', 'PSA', 'WMT', 'KMB', 'COST', 'VZ', 'AMED', 'PG', 'JNJ', 'WEC', 'BMY', 'LLY', 'AEP', 'AWK', 'CL', 'RIV', 'ED', 'DGX', 'NEE', 'DHR', 'XEL', 'EQIX', 'ES', 'DLR', 'BDX', 'D', 'SO', 'MRK', 'GILD', 'IDXX', 'PFE', 'ABBV', 'AMGN', 'BAX', 'DUK', 'APHA', 'PEP', 'HOLX', 'MCD', 'SBAC', 'MO', 'TMO', 'MDLZ', 'AMT', 'WM', 'RMD', 'COG', 'KO', 'LH', 'PEG', 'ORCL', 'PM', 'ARE', 'CVS', 'CVS', 'SRE', 'ABT', 'INVH', 'WBA', 'DTE', 'VRTX', 'PKI', 'STX', 'TMUS', 'PPL']\n",
        "commodities_list = ['EDV', 'ECL', 'ILU', 'SIL', 'CDE', 'SVM', 'PE&OLES', 'AGI', 'LAC', 'AMG', 'FNV', 'CTVA', 'FRES', 'IP', 'NCM', 'KL', 'PLS', 'GXY', 'NEM', 'KGC', 'FR', 'ORE', 'DD', 'EVN', 'AUY', 'APD', 'SHW', '2899', 'AU', 'LYC', 'GFI', 'TROX', '600392', 'VMC', 'NG', '010130', 'GOLD', '600549', 'POLY', '1772', 'BVN', 'WPM', 'LYB', 'RGLD', 'N/A', 'SSRM', 'HL', 'DOW', 'MDKA', 'FVI', 'BTG', 'FCX', '603993', 'AG', 'AEM', 'EGO', 'NST', 'ERA', 'PAAS', 'BLL', 'MAG', '600111', 'PPG']\n",
        "fintech_list = ['6060', 'DFS', 'Z', 'MELI', 'NEXI', 'XRO', 'ICE', 'MA', 'SSNC', '9923', 'BILL', 'ADYEN', 'TCEHY', 'PYPL', 'SHOP', 'APT', 'FIS', 'BABA', 'V', 'AXP', 'INTU', 'GPN', 'STNE', 'GWRE', 'FISV', 'DOCU', 'PAGS', 'SI', 'SQ', 'TWLO', 'PINS', 'SE', 'FLT', 'LU', 'WLN']\n",
        "renewables_list = ['SCATC', 'NIO', '3800', 'AEIS', 'BLDP', 'PLUG', 'FCEL', 'HASI', 'AES', 'SPWR', 'NJR', 'AY', 'ITRI', 'EDPR', 'ACA', 'DQ', 'ORA', 'SGRE', 'CSIQ', 'CEN', 'ORSTED', 'ALB', 'VWS', 'ENPH', 'ECV', 'CREE', 'ON', 'PRY', 'CWEN', 'OLED', 'REE', 'SEDG', 'NVT', 'BEP.UT', 'ETN', 'TPIC', '968', 'FSLR', 'VER', 'MEL', 'JCI', 'RUN', 'LFUS', 'SU', 'TSLA', 'ABBN', 'NOVA', 'TRN', 'PWR', 'MAXN']\n",
        "ecommerce_list = ['JD', 'EBAY', 'FLWS', 'MELI', 'SNBR', 'BEKE', 'SFIX', 'OSTK', 'LYFT', 'MDC', 'NPN', 'W', 'SHOP', 'AMZN', 'PYPL', 'BBBY', 'EAT', 'BABA', 'WWW', 'SHAK', '3690', '035420', 'GRUB', 'IAC', 'STMP', 'MGNI', 'BIDU', 'BKNG', 'TCOM', 'ABG', 'M', 'IRBT', 'CTB', 'WSM', 'QRTEA', 'N/A', 'REAL', 'NTES', '1024', 'LE', 'ETSY', 'PDD', 'GDDY', 'CHWY', 'RVLV', 'MTH', 'DORM', '4755', 'GRPN', 'PRX', 'SE', 'LCII', 'LU', 'EXPE', 'SSTK']"
      ],
      "execution_count": 3,
      "outputs": []
    },
    {
      "cell_type": "markdown",
      "metadata": {
        "id": "08CJ_mtBiJKU"
      },
      "source": [
        "Packages needed"
      ]
    },
    {
      "cell_type": "code",
      "metadata": {
        "id": "Lv_LXb_yNFhr"
      },
      "source": [
        "import pandas as pd\n",
        "import matplotlib.pyplot as plt\n",
        "import numpy as np\n",
        "from pandas_datareader import data as pdr\n",
        "import yfinance as yf\n",
        "yf.pdr_override()\n",
        "import statistics\n",
        "from scipy.stats.stats import pearsonr\n",
        "import gspread\n",
        "from oauth2client.service_account import ServiceAccountCredentials\n",
        "import lxml\n",
        "from lxml import html\n",
        "import requests\n",
        "from bs4 import BeautifulSoup\n",
        "import bs4\n",
        "import time\n",
        "import datetime\n",
        "from sklearn.preprocessing import MinMaxScaler\n",
        "import math\n",
        "from math import e\n",
        "import re\n",
        "import pickle \n",
        "import gspread\n",
        "from oauth2client.service_account import ServiceAccountCredentials\n",
        "from scipy.stats.mstats import winsorize\n",
        "from sklearn.linear_model import LinearRegression"
      ],
      "execution_count": 4,
      "outputs": []
    },
    {
      "cell_type": "markdown",
      "metadata": {
        "id": "f2bP7eloiO53"
      },
      "source": [
        "Scrapes data from Google Sheet Worksheet to create a DataFrame with Technical and Fundamental Data"
      ]
    },
    {
      "cell_type": "code",
      "metadata": {
        "colab": {
          "base_uri": "https://localhost:8080/",
          "height": 346
        },
        "id": "mXtgaUcNtJId",
        "outputId": "caff91c9-701c-4f9b-f7fa-9f7d033371f4"
      },
      "source": [
        "scope = ['https://spreadsheets.google.com/feeds', 'https://www.googleapis.com/auth/drive']\n",
        "creds = ServiceAccountCredentials.from_json_keyfile_name(\"client_secret (2).json\", scope)\n",
        "client = gspread.authorize(creds)\n",
        "sheet = client.open_by_url(\"https://docs.google.com/spreadsheets/d/1crXKFvoSva_uXOaJMxHjt1yo5FxMZZ-Rn0pCEz5OlfI/edit#gid=0\").sheet1\n",
        "#proportions = pd.to_numeric(proportions, errors='coerce')\n",
        "pd.set_option('display.max_columns', None)\n",
        "pd.set_option('display.width', 1000)\n",
        "data = pd.DataFrame()\n",
        "pd.set_option('display.max_columns', None)\n",
        "pd.set_option('display.width', 1000)\n",
        "data[\"Stock\"] = [ x for x in sheet.col_values(1) if x!= \"Stock\"]\n",
        "data[\"Name\"] = [ x for x in sheet.col_values(2) if x!= \"Name\"]\n",
        "data[\"Type\"] = [ x for x in sheet.col_values(3) if x!= \"Type\"]\n",
        "data[\"Sortino\"] = [ float(x) for x in sheet.col_values(4) if x!= \"Sortino\" ]\n",
        "data[\"Relative Strength\"] = [ float(x) for x in sheet.col_values(5) if x!= \"RS\"]\n",
        "data[\"UpDown Volume\"] = [ float(x) for x in sheet.col_values(6) if x!= \"UpDownVolume\" ]\n",
        "data[\"Volatility\"] = [ float(x) for x in sheet.col_values(7) if x!= \"Volatility\"]\n",
        "data[\"Revenue Growth\"] = [ float(x) for x in sheet.col_values(9) if x!= \"Revenue Growth\"]\n",
        "data[\"Pred Revenue Growth\"] = [ float(x) for x in sheet.col_values(10) if x!= \"Pred Revenue Growth\"]\n",
        "data[\"EPS Growth\"] = [ float(x) for x in sheet.col_values(11) if x!= \"EPS Growth\"]\n",
        "data[\"Pred EPS Growth\"] = [ float(x) for x in sheet.col_values(12) if x!= \"Pred EPS Growth\"]\n",
        "data[\"Price Target\"] =  [ float(x) for x in sheet.col_values(14) if x!= \"Price Target\"]\n",
        "data[\"Composite Margin\"] =  [ float(x) for x in sheet.col_values(15) if x!= \"Composite Margin\"]\n",
        "data[\"Large Transactions\"] =  [ float(x) for x in sheet.col_values(16) if x!= \"Large Transactions\"]\n",
        "data[\"Defense\"] =  [ float(x) for x in sheet.col_values(17) if x!= \"Defense\"]\n",
        "data[\"Technical Value\"] = [ float(x) for x in sheet.col_values(8) if x!= \"Technical Value\"]\n",
        "data[\"Fundamental Value\"] = [ float(x) for x in sheet.col_values(13) if x!= \"Fundamental Value\"]\n",
        "data[\"Resilience Value\"] = [ float(x) for x in sheet.col_values(18) if x!= \"Resilience Value\"]\n",
        "data[\"Fundamental Volatility\"] = [ float(x) for x in sheet.col_values(19) if x!= \"Fundamental Volatility\"]\n",
        "data[\"Market Cap\"] = [ float(x) for x in sheet.col_values(20) if x!= \"Market Cap\"]\n",
        "data[\"Average EPS\"] = [ float(x) for x in sheet.col_values(21) if x!= \"Average EPS\"]\n",
        "data[\"Dividend\"] = [ float(x) for x in sheet.col_values(22) if x!= \"Dividend\"]\n",
        "data[\"PEG\"] = [ float(x) for x in sheet.col_values(23) if x!= \"PEG\"]\n",
        "data[\"P/B\"] = [ float(x) for x in sheet.col_values(24) if x!= \"P/B\"]\n",
        "data[\"ROE\"] = [ float(x) for x in sheet.col_values(25) if x!= \"ROE\"]\n",
        "data[\"Insider Trades\"] = [ float(x) for x in sheet.col_values(26) if x!= \"Insider Trades\"]"
      ],
      "execution_count": 6,
      "outputs": [
        {
          "output_type": "error",
          "ename": "FileNotFoundError",
          "evalue": "ignored",
          "traceback": [
            "\u001b[0;31m---------------------------------------------------------------------------\u001b[0m",
            "\u001b[0;31mFileNotFoundError\u001b[0m                         Traceback (most recent call last)",
            "\u001b[0;32m<ipython-input-6-0c254ff384df>\u001b[0m in \u001b[0;36m<module>\u001b[0;34m()\u001b[0m\n\u001b[1;32m      1\u001b[0m \u001b[0mscope\u001b[0m \u001b[0;34m=\u001b[0m \u001b[0;34m[\u001b[0m\u001b[0;34m'https://spreadsheets.google.com/feeds'\u001b[0m\u001b[0;34m,\u001b[0m \u001b[0;34m'https://www.googleapis.com/auth/drive'\u001b[0m\u001b[0;34m]\u001b[0m\u001b[0;34m\u001b[0m\u001b[0;34m\u001b[0m\u001b[0m\n\u001b[0;32m----> 2\u001b[0;31m \u001b[0mcreds\u001b[0m \u001b[0;34m=\u001b[0m \u001b[0mServiceAccountCredentials\u001b[0m\u001b[0;34m.\u001b[0m\u001b[0mfrom_json_keyfile_name\u001b[0m\u001b[0;34m(\u001b[0m\u001b[0;34m\"client_secret (2).json\"\u001b[0m\u001b[0;34m,\u001b[0m \u001b[0mscope\u001b[0m\u001b[0;34m)\u001b[0m\u001b[0;34m\u001b[0m\u001b[0;34m\u001b[0m\u001b[0m\n\u001b[0m\u001b[1;32m      3\u001b[0m \u001b[0mclient\u001b[0m \u001b[0;34m=\u001b[0m \u001b[0mgspread\u001b[0m\u001b[0;34m.\u001b[0m\u001b[0mauthorize\u001b[0m\u001b[0;34m(\u001b[0m\u001b[0mcreds\u001b[0m\u001b[0;34m)\u001b[0m\u001b[0;34m\u001b[0m\u001b[0;34m\u001b[0m\u001b[0m\n\u001b[1;32m      4\u001b[0m \u001b[0msheet\u001b[0m \u001b[0;34m=\u001b[0m \u001b[0mclient\u001b[0m\u001b[0;34m.\u001b[0m\u001b[0mopen_by_url\u001b[0m\u001b[0;34m(\u001b[0m\u001b[0;34m\"https://docs.google.com/spreadsheets/d/1crXKFvoSva_uXOaJMxHjt1yo5FxMZZ-Rn0pCEz5OlfI/edit#gid=0\"\u001b[0m\u001b[0;34m)\u001b[0m\u001b[0;34m.\u001b[0m\u001b[0msheet1\u001b[0m\u001b[0;34m\u001b[0m\u001b[0;34m\u001b[0m\u001b[0m\n\u001b[1;32m      5\u001b[0m \u001b[0;31m#proportions = pd.to_numeric(proportions, errors='coerce')\u001b[0m\u001b[0;34m\u001b[0m\u001b[0;34m\u001b[0m\u001b[0;34m\u001b[0m\u001b[0m\n",
            "\u001b[0;32m/usr/local/lib/python3.7/dist-packages/oauth2client/service_account.py\u001b[0m in \u001b[0;36mfrom_json_keyfile_name\u001b[0;34m(cls, filename, scopes, token_uri, revoke_uri)\u001b[0m\n\u001b[1;32m    217\u001b[0m                 \u001b[0mthe\u001b[0m \u001b[0mkeyfile\u001b[0m\u001b[0;34m.\u001b[0m\u001b[0;34m\u001b[0m\u001b[0;34m\u001b[0m\u001b[0m\n\u001b[1;32m    218\u001b[0m         \"\"\"\n\u001b[0;32m--> 219\u001b[0;31m         \u001b[0;32mwith\u001b[0m \u001b[0mopen\u001b[0m\u001b[0;34m(\u001b[0m\u001b[0mfilename\u001b[0m\u001b[0;34m,\u001b[0m \u001b[0;34m'r'\u001b[0m\u001b[0;34m)\u001b[0m \u001b[0;32mas\u001b[0m \u001b[0mfile_obj\u001b[0m\u001b[0;34m:\u001b[0m\u001b[0;34m\u001b[0m\u001b[0;34m\u001b[0m\u001b[0m\n\u001b[0m\u001b[1;32m    220\u001b[0m             \u001b[0mclient_credentials\u001b[0m \u001b[0;34m=\u001b[0m \u001b[0mjson\u001b[0m\u001b[0;34m.\u001b[0m\u001b[0mload\u001b[0m\u001b[0;34m(\u001b[0m\u001b[0mfile_obj\u001b[0m\u001b[0;34m)\u001b[0m\u001b[0;34m\u001b[0m\u001b[0;34m\u001b[0m\u001b[0m\n\u001b[1;32m    221\u001b[0m         return cls._from_parsed_json_keyfile(client_credentials, scopes,\n",
            "\u001b[0;31mFileNotFoundError\u001b[0m: [Errno 2] No such file or directory: 'client_secret (2).json'"
          ]
        }
      ]
    },
    {
      "cell_type": "markdown",
      "metadata": {
        "id": "GsxljUQ2iix2"
      },
      "source": [
        "Functions used to create ratios that rate stocks based on a criteria. Defense for example compares how many bearish days the stock had in a period compared to the US market index \"SPY\" "
      ]
    },
    {
      "cell_type": "code",
      "metadata": {
        "id": "WHrhYmtNeqZB"
      },
      "source": [
        "def defense(symbol,period):\n",
        "  try:\n",
        "    indexes = []\n",
        "    ngtchg_spy = []\n",
        "    spyprice = list(pdr.get_data_yahoo(\"spy\",period=period).Close.pct_change().fillna(0))\n",
        "    data = list(pdr.get_data_yahoo(symbol,period=period).Close.pct_change().fillna(0))\n",
        "    if len(spyprice) != len(data):\n",
        "      diff = len(spyprice) - len(data)\n",
        "      spyprice = spyprice[diff:]\n",
        "    for x in spyprice:\n",
        "      if x < 0 :\n",
        "        ngtchg_spy.append(x)\n",
        "        indexes.append(spyprice.index(x))\n",
        "    ngtchg_data = []\n",
        "    for x in indexes:\n",
        "      ngtchg_data.append(data[x])\n",
        "    return pct_change(np.mean(ngtchg_spy),np.mean(ngtchg_data))\n",
        "  except:\n",
        "    return -1000\n",
        "    \n",
        "def get_holdings(etf):\n",
        "  try:\n",
        "    url = \"https://etfdb.com/etf/\" + etf + \"/#holdings\"\n",
        "    r = requests.get(url)\n",
        "    soup=bs4.BeautifulSoup(r.text, \"lxml\")\n",
        "    holdings = []\n",
        "    for x in range(1,15):\n",
        "      stock = soup.find_all(\"td\", {\"data-th\":\"Symbol\"})[x].text\n",
        "      holdings.append(stock)\n",
        "    return holdings\n",
        "  except:\n",
        "    return 0 \n",
        "def save_file(data,file_name):\n",
        "  pickle_file = file_name + \".pkl\"\n",
        "  open_pickle_file = open(pickle_file, \"wb\")\n",
        "  pickle.dump(data, open_pickle_file)\n",
        "  open_pickle_file.close()\n",
        "  return open_pickle_file\n",
        "def load_file(file_name):\n",
        "  open_data = open(file_name, \"rb\")\n",
        "  data = pickle.load(open_data)\n",
        "  return data\n",
        "def stock_type(symbol):\n",
        "  try:\n",
        "    types = []\n",
        "    if symbol.upper() in growth_list:\n",
        "      types.append(\"Growth\")\n",
        "    if symbol.upper() in largecap_growth_list:\n",
        "      types.append(\"Large Cap\")\n",
        "    if symbol.upper() in defensives_list:\n",
        "      types.append(\"Defensive\")\n",
        "    if symbol.upper() in commodities_list:\n",
        "      types.append(\"Commodities\")\n",
        "    if symbol.upper() in fintech_list:\n",
        "      types.append(\"Fintech\")\n",
        "    if symbol.upper() in renewables_list:\n",
        "      types.append(\"Renewables\")\n",
        "    if symbol.upper() in ecommerce_list:\n",
        "      types.append(\"Ecommerce\")\n",
        "    return types\n",
        "  except:\n",
        "    return \"na\"\n",
        "\n",
        "def pct_change(x,y):\n",
        "  if x != 0 :\n",
        "    change = (y-x)/x\n",
        "    if x < 0:\n",
        "      change = change * - 1\n",
        "    return round(change*100,2)\n",
        "  elif x== 0 and y < 0 :\n",
        "    return -100\n",
        "  elif x == 0 and y > 0:\n",
        "    return 100\n",
        "  elif x == 0 and y == 0 :\n",
        "    return 0\n",
        "def Sortino(symbol,period):\n",
        "  try:\n",
        "    closeprice = list(pdr.get_data_yahoo(symbol, period=period).Close.pct_change().fillna(0)*100)\n",
        "    std = statistics.stdev(closeprice)\n",
        "    filtered = [ x for x in closeprice if np.abs(x) < 3*std]\n",
        "    pstchange= [x for x in filtered if x > 0 ]\n",
        "    ngtchange = [ x for x in filtered if x < 0 ]\n",
        "    UDRatio = len(pstchange)/len(ngtchange)\n",
        "    avgreturn = statistics.mean(filtered)\n",
        "    volatility = statistics.stdev(ngtchange)\n",
        "    sortino = round((((avgreturn/volatility)* UDRatio)+1),3)\n",
        "    if type(sortino) == float:\n",
        "      return sortino\n",
        "    else:\n",
        "      return 0\n",
        "  except:\n",
        "    return 0  \n",
        "def RS(symbol, period):\n",
        "  try:\n",
        "    spyprice = pdr.get_data_yahoo(\"spy\",period=period).Close.pct_change().fillna(0)\n",
        "    spyprice_avg = spyprice.sum()\n",
        "    stockprice = pdr.get_data_yahoo(symbol,period=period).Close.pct_change().fillna(0)\n",
        "    stockprice_avg = stockprice.sum()\n",
        "    if stockprice_avg == 0:\n",
        "      stockprice_avg = \"na\"\n",
        "    pctchg_diff = (stockprice_avg - spyprice_avg) * 100\n",
        "    return pctchg_diff\n",
        "  except:\n",
        "    return -1000\n",
        "def price_target(symbol):\n",
        "  try:\n",
        "    url = \"https://www.marketwatch.com/investing/stock/\" + symbol + \"/analystestimates\"\n",
        "    r = requests.get(url)\n",
        "    soup=bs4.BeautifulSoup(r.text, \"lxml\")\n",
        "    data= float(soup.find_all(\"td\", {\"class\":\"table__cell w25 \"})[1].text.replace(\",\",\"\"))\n",
        "    current_price = pdr.get_data_yahoo(symbol,period=\"5d\").Close.iloc[-1]\n",
        "    pct_diff = pct_change(current_price,data)\n",
        "    return pct_diff\n",
        "  except:\n",
        "    try:\n",
        "      url = \"https://finance.yahoo.com/quote/\"  + symbol + \"?p=\"  + symbol\n",
        "      r = requests.get(url)\n",
        "      soup=bs4.BeautifulSoup(r.text, \"lxml\")\n",
        "      loop = True\n",
        "      x = 0\n",
        "      while loop:\n",
        "        try:\n",
        "          data= soup.find_all(\"span\", {\"class\":\"Trsdu(0.3s) \"})[x].text\n",
        "          x += 1\n",
        "        except IndexError:\n",
        "          loop = False\n",
        "      data = float(soup.find_all(\"span\", {\"class\":\"Trsdu(0.3s) \"})[x-1].text)\n",
        "      current_price = pdr.get_data_yahoo(symbol,period=\"5d\").Close.iloc[-1]\n",
        "      pct_diff = pct_change(current_price,data)\n",
        "      return pct_diff\n",
        "    except:\n",
        "      return -1000\n",
        "\n",
        "def exp_weights(x):\n",
        "  exp_list = []\n",
        "  for x in range(0,x):\n",
        "    y =  (e**x)\n",
        "    exp_list.append(y)\n",
        "  exp_list_n = [ x/ sum(exp_list) for x in exp_list]\n",
        "  return exp_list_n\n",
        "  \n",
        "def Name(symbol):\n",
        "  try:\n",
        "    symbol = symbol\n",
        "    url = \"https://finance.yahoo.com/quote/\" + symbol + \"?p=\" + symbol\n",
        "    r = requests.get(url)\n",
        "    soup=bs4.BeautifulSoup(r.text, \"lxml\")\n",
        "    name  = soup.find_all(\"h1\", {\"class\":\"D(ib) Fz(18px)\"})[0].text\n",
        "    ticker = \"(\" + symbol.upper() + \")\"\n",
        "    name = name.replace(ticker,\"\")\n",
        "    return name\n",
        "  except:\n",
        "    return 0  \n",
        "def revenue(symbol,scope,mode):\n",
        "  try:\n",
        "    if scope ==\"annual\":\n",
        "      index = 0\n",
        "    elif scope == \"quarterly\":\n",
        "      index = 1\n",
        "    url = \"https://www.macrotrends.net/stocks/charts/\" + symbol + \"/\" + Name(symbol) + \"/\" + \"revenue\"\n",
        "    r = requests.get(url)\n",
        "    soup=bs4.BeautifulSoup(r.text, \"lxml\")\n",
        "    data= soup.find_all(\"table\", {\"class\":\"historical_data_table table\"})[index].text\n",
        "    data = data.replace(\"$\", \"\").replace(\",\",\"\").split()\n",
        "    data = [int(i) for i in data if i.isdigit()] \n",
        "    years = [ i for i in range(2000,2021)]\n",
        "    data = [ i for i in data if i not in years]\n",
        "    data.reverse()\n",
        "    if mode == \"standard\":\n",
        "      return data\n",
        "    elif mode == \"growth\":\n",
        "      growth =  [pct_change(a1,a2) for a1, a2 in zip(data[:-4], data[4:])]\n",
        "      growth = winsorize(growth, limits=[0, 0.1])\n",
        "      return growth\n",
        "  except:\n",
        "    return \"na\"\n",
        "def UpDownVolume(symbol,period):\n",
        "  try:\n",
        "    data = pdr.get_data_yahoo(symbol,period=period)\n",
        "    prices = list(data.Close.pct_change().fillna(0))\n",
        "    volume = list(data.Volume)\n",
        "    pst_index = []\n",
        "    ngt_index = []\n",
        "    for x in prices:\n",
        "      if x > 0:\n",
        "        pst_index.append(prices.index(x))\n",
        "      elif x < 0 :\n",
        "        ngt_index.append(prices.index(x))\n",
        "    pst_volume = []\n",
        "    for index in pst_index:\n",
        "      volume_point = volume[index]\n",
        "      pst_volume.append(volume_point)\n",
        "    ngt_volume = []\n",
        "    for index in ngt_index:\n",
        "      volume_point = volume[index]\n",
        "      ngt_volume.append(volume_point)\n",
        "    return np.mean(pst_volume)/np.mean(ngt_volume)\n",
        "  except:\n",
        "    return -1000\n",
        "def large_transactions(symbol,mode):\n",
        "  try:\n",
        "    url = \"https://money.cnn.com/quote/shareholders/shareholders.html?symb=\" + symbol + \"&subView=institutional\"\n",
        "    r = requests.get(url)\n",
        "    soup=bs4.BeautifulSoup(r.text, \"lxml\")\n",
        "    data_list = []\n",
        "    buy_list = []\n",
        "    sell_list = []\n",
        "    x = 22\n",
        "    loop = True\n",
        "    while loop == True:\n",
        "      data= soup.find_all(\"span\")[x].text\n",
        "      check = data.replace(\",\",\"\").replace(\"+\",\"\").replace(\"-\",\"\")\n",
        "      if check.isdecimal() == True and check != \"2020\":\n",
        "        data= float(data.replace(\",\",\"\").replace(\"+\",\"\"))\n",
        "        data_list.append(data)\n",
        "      if check == \"2020\":\n",
        "        loop = False\n",
        "      x += 1\n",
        "    if mode == \"institutional\":\n",
        "      data_list = data_list[:10]\n",
        "    elif mode == \"mutual\":\n",
        "      data_list = data_list[10:]\n",
        "    elif mode == \"all\":\n",
        "      data_list = data_list\n",
        "    for data in data_list:\n",
        "      if data < 0:\n",
        "        sell_list.append(data)\n",
        "      elif data > 0:\n",
        "        buy_list.append(data)\n",
        "    if sum(buy_list) == 0 and sum(sell_list) != 0:\n",
        "      return 0\n",
        "    elif sum(buy_list) != 0 and sum(sell_list) == 0 :\n",
        "      return 100\n",
        "    else:\n",
        "      return sum(buy_list)/ np.abs(sum(sell_list))\n",
        "  except:\n",
        "    return -100\n",
        "\n",
        "def rev_growth_estimate(symbol,mode):\n",
        "  try:\n",
        "    url = \"https://uk.finance.yahoo.com/quote/\" + symbol + \"/analysis?p=\" + symbol + \"&.tsrc=fin-srch\"\n",
        "    r = requests.get(url)\n",
        "    soup=bs4.BeautifulSoup(r.text, \"lxml\")\n",
        "    data= soup.find_all(\"tr\", {\"class\":\"BdT Bdc($seperatorColor)\"})[10].text.split()[2:]\n",
        "    data = [ x[10:] for x in data]\n",
        "    data = [ x.replace(\"N/A\",\"na%\").replace(\",\",\"\").rsplit(\"%\") for x in data]\n",
        "    data = [i for x in data for i in x ][:-2]\n",
        "    data = [ float(x) for x in data if x!= \"na\" ]\n",
        "    if mode == \"all\":\n",
        "      return data\n",
        "    elif mode == \"average\":\n",
        "        return np.mean(data)\n",
        "  except:\n",
        "    return -1000\n",
        "def eps(symbol,scope,mode):\n",
        "  try:\n",
        "    if scope ==\"annual\":\n",
        "      index = 0\n",
        "    elif scope == \"quarterly\":\n",
        "      index = 1\n",
        "    url = \"https://www.macrotrends.net/stocks/charts/\" + symbol + \"/\" + symbol + \"/eps-earnings-per-share-diluted\"\n",
        "    r = requests.get(url)\n",
        "    soup=bs4.BeautifulSoup(r.text, \"lxml\")\n",
        "    data= soup.find_all(\"table\", {\"class\":\"historical_data_table table\"})[index].text\n",
        "    data = data.replace(\"$\", \"\").replace(\",\",\"\").replace(\".\",\"\").split()\n",
        "    years = [ str(i) for i in range(2000,2021)]\n",
        "    if scope == \"annual\":\n",
        "      data = [float(i)/100 for i in data if i.isalpha() == False and i not in years]\n",
        "    elif scope == \"quarterly\":\n",
        "      data = [float(i)/100 for i in data if i.isalpha() == False and len(i) != 10  and \"&\" not in i]\n",
        "    years = [ i for i in range(2000,2021)]\n",
        "    data.reverse()\n",
        "    if mode == \"standard\":\n",
        "      return data\n",
        "    elif mode == \"growth\":\n",
        "      growth = [pct_change(a1,a2) for a1, a2 in zip(data[:-4], data[4:])]\n",
        "      return growth\n",
        "  except:\n",
        "    return \"na\"\n",
        "def eps_estimate(symbol):\n",
        "  try:\n",
        "    url = \"https://uk.finance.yahoo.com/quote/\" + symbol + \"/analysis?p=\" + symbol + \"&.tsrc=fin-srch\"\n",
        "    r = requests.get(url)\n",
        "    soup=bs4.BeautifulSoup(r.text, \"lxml\")\n",
        "    eps_estimates = []  \n",
        "    yr_ago_eps = []\n",
        "    for x in range(0,4):\n",
        "      pred_data= soup.find_all(\"tr\", {\"class\":\"BdT Bdc($seperatorColor)\"})[1].find_all(\"td\",{\"class\":\"Ta(end)\"})[x].text\n",
        "      yr_ago_data = soup.find_all(\"tr\", {\"class\":\"BdT Bdc($seperatorColor)\"})[4].find_all(\"td\",{\"class\":\"Ta(end)\"})[x].text\n",
        "      eps_estimates.append(pred_data)\n",
        "      yr_ago_eps.append(yr_ago_data)\n",
        "    pred_eps_growth = list(zip(yr_ago_eps,eps_estimates))[:-1]\n",
        "    for x in pred_eps_growth:\n",
        "      if \"N/A\" in x or x[1] == \"0\":\n",
        "        pred_eps_growth.pop(pred_eps_growth.index(x))\n",
        "    for x in pred_eps_growth:\n",
        "      if x[1] == \"0\":\n",
        "        pred_eps_growth.pop(pred_eps_growth.index(x))\n",
        "    pred_eps_growth = [ list(x) for x in pred_eps_growth]\n",
        "    for x in pred_eps_growth:\n",
        "        x[0] = float(x[0])\n",
        "        x[1] = float(x[1])\n",
        "    pred_eps_growth = [tuple(x) for x in pred_eps_growth]\n",
        "    pred_eps_growth = [ pct_change(a1,a2) for a1, a2 in pred_eps_growth]\n",
        "    return np.mean(pred_eps_growth)\n",
        "  except:\n",
        "    return -1000\n",
        "def eps_surprise(symbol):\n",
        "  try:  \n",
        "    url = \"https://uk.finance.yahoo.com/quote/\" + symbol + \"/analysis?p=\" + symbol + \"&.tsrc=fin-srch\"\n",
        "    r = requests.get(url)\n",
        "    soup=bs4.BeautifulSoup(r.text, \"lxml\")\n",
        "    eps_surprise_list = []  \n",
        "    data= soup.find_all(\"tr\", {\"class\":\"BdT Bdc($seperatorColor)\"})[14].text[8:].replace(\"N/A\",\"na%\").replace(\",\",\"\").rsplit(\"%\")\n",
        "    data = [ float(x) for x in data if len(x) > 1 and x != \"na\"]\n",
        "    return data\n",
        "  except:\n",
        "    return \"na\"\n",
        "def profit_margins(symbol, margin_type,mode):\n",
        "  try:\n",
        "    if margin_type == \"net\":\n",
        "      url = \"https://www.macrotrends.net/stocks/charts/\" + symbol + \"/\" + Name(symbol) + \"/\" + \"net-profit-margin\"\n",
        "    elif margin_type == \"pre_tax\":\n",
        "      url = \"https://www.macrotrends.net/stocks/charts/\" + symbol + \"/\" + Name(symbol) + \"/\" + \"pre-tax-profit-margin\"\n",
        "    elif margin_type == \"roe\":\n",
        "      url = \"https://www.macrotrends.net/stocks/charts/\" + symbol + \"/\" + Name(symbol) + \"/\" + \"roe\"\n",
        "    r = requests.get(url)\n",
        "    soup=bs4.BeautifulSoup(r.text, \"lxml\")\n",
        "    data= soup.find_all(\"table\", {\"class\":\"table\"})[0].text\n",
        "    data = data.replace(\"$\", \"\").split()\n",
        "    data = [float(i.replace(\"%\",\"\")) for i in data if i[-1] == \"%\"]\n",
        "    data = [ x for x in data if x != np.inf]\n",
        "    data.reverse()\n",
        "    if mode == \"standard\":\n",
        "      return data\n",
        "    elif mode == \"growth\":\n",
        "      return [pct_change(a1,a2) for a1, a2 in zip(data[:-4], data[4:])]\n",
        "  except:       \n",
        "    return -1000\n",
        "def composite_margin(symbol,mode):\n",
        "  try:\n",
        "    pre_tax = profit_margins(symbol,\"pre_tax\",mode)\n",
        "    net = profit_margins(symbol,\"net\",mode)\n",
        "    return [ (a + b)/2 for a,b in zip(pre_tax,net) ]\n",
        "  except:\n",
        "    return -1000\n",
        "\n",
        "def Volatility(symbol,period):\n",
        "  try:\n",
        "    data = list(pdr.get_data_yahoo(symbol,period=period).Close.pct_change().fillna(0))\n",
        "    ngt_chg = []\n",
        "    for x in data:\n",
        "      if x < 0:\n",
        "        ngt_chg.append(x)\n",
        "    return statistics.stdev(ngt_chg) * 100\n",
        "  except:\n",
        "    return -1000\n",
        "\n",
        "def data_avg(data,mode):\n",
        "  try:\n",
        "    if len(data) > 12:\n",
        "      data = data[-12:]\n",
        "    if mode == \"actual\":\n",
        "      weights = exp_weights(len(data))\n",
        "      weighted_data = [ a * b for a , b in zip(data,weights)]\n",
        "      weighted_avg = sum(weighted_data)\n",
        "      return weighted_avg\n",
        "    elif mode == \"scaled\":\n",
        "      data = np.array(data)\n",
        "      model = MinMaxScaler((0,1))\n",
        "      scaled_data = model.fit_transform(data.reshape(-1,1))\n",
        "      last_val = scaled_data[-1]\n",
        "      last_val = list(last_val)\n",
        "    return last_val\n",
        "  except:\n",
        "    return -1000\n",
        "\n",
        "def get_rank(symbol,mode):\n",
        "  try:\n",
        "    symbol = symbol.upper()\n",
        "    df = data\n",
        "    df = df.sort_values(by=mode,ascending=False)\n",
        "    result = list(df[\"Stock\"]).index(symbol)\n",
        "    if mode == \"Volatility\":\n",
        "      return result\n",
        "    else:\n",
        "      result = len(df) - result\n",
        "      return result\n",
        "  except:\n",
        "    return -1000\n",
        "\n",
        "def Technical_Value(symbol):\n",
        "  try:\n",
        "    return get_rank(symbol,\"Sortino\") +  get_rank(symbol,\"Relative Strength\") + get_rank(symbol,\"UpDown Volume\")\n",
        "  except:\n",
        "    return -1000\n",
        "\n",
        "def Fundamental_Value(symbol):\n",
        "  try:\n",
        "    return get_rank(symbol,\"Revenue Growth\") + get_rank(symbol,\"Pred Revenue Growth\") + get_rank(symbol,\"EPS Growth\") + get_rank(symbol,\"Pred EPS Growth\")\n",
        "  except:\n",
        "    return -1000\n",
        "\n",
        "def Resilience_Value(symbol):\n",
        "  try:\n",
        "    return get_rank(symbol,\"Volatility\") + get_rank(symbol,\"Defense\")\n",
        "  except:\n",
        "    return -1000\n",
        "def data_vol(data):\n",
        "  try:\n",
        "    scaler = MinMaxScaler()\n",
        "    data = np.array(data).reshape(-1,1)\n",
        "    scaler.fit(data)\n",
        "    data = scaler.transform(data).reshape(1,-1)[0]\n",
        "    X = np.array(range(len(data)))\n",
        "    m, b = np.polyfit(X, data, 1)\n",
        "    best_fit = []\n",
        "    for point in X:\n",
        "      best_fit.append(m*X + b)\n",
        "    mse = np.abs(data - best_fit)\n",
        "    return np.sum(mse)\n",
        "  except:\n",
        "    return -1000\n",
        "def fundamental_vol(symbol):\n",
        "  try:\n",
        "    avg_list = []\n",
        "    avg_list.append(data_vol(eps(symbol,\"quarterly\",\"standard\")[-12:]))\n",
        "    avg_list.append(data_vol(revenue(symbol,\"quarterly\",\"standard\")[-12:]))\n",
        "    avg_list.append(data_vol(composite_margin(symbol,\"standard\")[-12:]))\n",
        "    avg_list = [ x for x in avg_list if x != -1000]\n",
        "    return np.mean(avg_list)\n",
        "  except:\n",
        "    return -1000\n",
        "\n",
        "def MarketCap(symbol):\n",
        "  try:\n",
        "    symbol = symbol\n",
        "    url = \"https://finance.yahoo.com/quote/\" + symbol + \"?p=\" + symbol\n",
        "    r = requests.get(url)\n",
        "    soup=bs4.BeautifulSoup(r.text, \"lxml\")\n",
        "    example = soup.find_all(\"td\", {\"class\":\"Ta(end) Fw(600) Lh(14px)\"})[8].text\n",
        "    example.replace('\"',\"\")\n",
        "    if example[-1] == \"T\":\n",
        "      example = float(example[:-1]) * 1000000000000\n",
        "    elif example[-1] == \"B\":\n",
        "      example = float(example[:-1]) * 1000000000\n",
        "    elif example[-1] == \"M\":\n",
        "      example = float(example[:-1]) * 1000000\n",
        "    elif example[-1] == \"K\":\n",
        "      example = float(example[:-1]) * 1000\n",
        "    return example\n",
        "  except:\n",
        "    return -1000\n",
        "\n",
        "def Dividend(symbol):\n",
        "  try:\n",
        "    url = \"https://www.marketwatch.com/investing/stock/\" + symbol\n",
        "    r = requests.get(url)\n",
        "    soup=bs4.BeautifulSoup(r.text, \"lxml\")\n",
        "    example = soup.find_all(\"li\", {\"class\":\"kv__item\"})[10].find(\"span\", {\"class\": \"primary\"}).text\n",
        "    if example == \"N/A\":\n",
        "      return -1000\n",
        "    else:\n",
        "      example = float(example.replace(\"%\",\"\"))\n",
        "      return example \n",
        "  except:\n",
        "    return -1000\n",
        "\n",
        "def PEG(symbol):\n",
        "  try:\n",
        "    symbol = symbol.upper()\n",
        "    current_price = pdr.get_data_yahoo(symbol,period=\"3d\").Close.iloc[-1]\n",
        "    symbol_index = list(data[\"Stock\"]).index(symbol)\n",
        "    avg_eps = data[\"Average EPS\"][symbol_index]\n",
        "    eps_growth = data[\"EPS Growth\"][symbol_index]\n",
        "    peg = current_price / ( avg_eps * eps_growth)\n",
        "    return 1/peg\n",
        "  except:\n",
        "    -1000\n",
        "\n",
        "def PB_Ratio(symbol):\n",
        "  try:\n",
        "    url = \"https://www.macrotrends.net/stocks/charts/\" + symbol + \"/\" +  Name(symbol) + \"/price-book\"\n",
        "    r = requests.get(url)\n",
        "    soup=bs4.BeautifulSoup(r.text, \"lxml\")\n",
        "    pb = float(soup.find_all(\"td\", {\"style\":\"text-align:center;\"})[3].text)\n",
        "    if pb < 0:\n",
        "      pb = (pb * -20 )\n",
        "    if pb == 0:\n",
        "      pb = 100\n",
        "    pb = 1/pb\n",
        "    return pb\n",
        "  except:\n",
        "    return -1000 \n",
        "\n",
        "def ROE(symbol):\n",
        "  try:\n",
        "    url = \"https://www.macrotrends.net/stocks/charts/\" + symbol + \"/\" + Name(symbol) + \"/roe\"\n",
        "    r = requests.get(url)\n",
        "    soup=bs4.BeautifulSoup(r.text, \"lxml\")\n",
        "    data = soup.find_all(\"td\", {\"style\":\"text-align:center;\"})[3].text\n",
        "    data = float(data.replace(\"%\",\"\"))\n",
        "    return data\n",
        "  except:\n",
        "    return -1000\n",
        "def insider_trades(symbol):\n",
        "  try:\n",
        "    url = \"https://uk.finance.yahoo.com/quote/\" + symbol + \"/insider-transactions?p=\" + symbol\n",
        "    r = requests.get(url)\n",
        "    soup=bs4.BeautifulSoup(r.text, \"lxml\")\n",
        "    buys = float(soup.find_all(\"td\",{\"class\":\"Py(10px)\"})[1].text.replace(\",\",\"\"))\n",
        "    sells  = float(soup.find_all(\"td\",{\"class\":\"Py(10px)\"})[4].text.replace(\",\",\"\"))\n",
        "    if buys or sells == \"N/A\":\n",
        "      result = -1000\n",
        "    result = buys/sells\n",
        "    return result \n",
        "  except:\n",
        "    return -1000"
      ],
      "execution_count": null,
      "outputs": []
    },
    {
      "cell_type": "markdown",
      "metadata": {
        "id": "41DOjcZGjDEX"
      },
      "source": [
        "Weighted average rating systems such as \"Technical Value\" or \"Large Transactions\" will be created by using data from dataframe above. Relevant importance or weight of each rating system willl differ depending on the rating criteria of a stock. For example \"growth_ratings\" weighs the rating system \"Technical Value\" more than every other rating system. Scatter charts show the weights given to each rating system depending on the criteria. "
      ]
    },
    {
      "cell_type": "code",
      "metadata": {
        "id": "1OP7AslMnLHw"
      },
      "source": [
        "xlabels = [\"Technical Value\",\"Fundamental Value\",\"Price Target\",\"Large Transactions\",\"Composite Margin\",\"Resilience Value\",\"Fundamental Volatility\",\"Average EPS\",\"Dividend\",\"PEG\",\"PB\",\"ROE\",\"Insider Trades\"]\n",
        "len(xlabels)\n",
        "growth_weightings = [ 4.1,1.8,1.8,1.8,0.3,0.1,0.1,0.1,0,0,0,0.6,1.3]\n",
        "len(growth_weightings)\n",
        "plt.xticks(range(len(growth_weightings)),xlabels,rotation = 90)\n",
        "plt.scatter(range(len(growth_weightings)),growth_weightings)\n",
        "plt.show()\n",
        "print(\"Growth weightings sum to  \" + str(sum(growth_weightings)))\n",
        "momentum_weightings = [0.8,4.1,1.2,1.6,0.6,0.1,1.3,0.3,0,0,0,0.8,1.2]\n",
        "len(momentum_weightings)\n",
        "plt.xticks(range(len(growth_weightings)),xlabels,rotation = 90)\n",
        "plt.scatter(range(len(growth_weightings)),momentum_weightings)\n",
        "plt.show()\n",
        "print(\"Momentum weightings sum to  \" + str(sum(momentum_weightings)))\n",
        "defense_weightings = [1.2,0.4,0.3,0.3,0.5,4,3,0.8,0.8,0,0,0,0.7]\n",
        "plt.xticks(range(len(growth_weightings)),xlabels,rotation = 90)\n",
        "plt.scatter(range(len(growth_weightings)),defense_weightings)\n",
        "plt.show()\n",
        "print(\"Defense weightings sum to  \" + str(sum(defense_weightings)))\n",
        "largecap_weightings = [2.1,1.2,0.2,0.2,1.4,1.6,1.6,1.7,0,0,0,1,1]\n",
        "plt.xticks(range(len(growth_weightings)),xlabels,rotation = 90)\n",
        "plt.scatter(range(len(growth_weightings)),largecap_weightings)\n",
        "plt.show()\n",
        "print(\"Large Cap weightings sum to  \" + str(sum(largecap_weightings)))\n",
        "dividend_weightings = [0.3,0.3,0.3,0.4,0.7,1.6,1,1,4,0.8,0.8,0.8,0]\n",
        "plt.xticks(range(len(growth_weightings)),xlabels,rotation = 90)\n",
        "plt.scatter(range(len(growth_weightings)),dividend_weightings)\n",
        "plt.show()\n",
        "print(\"Dividend weightings sum to  \" + str(sum(dividend_weightings)))\n",
        "value_weightings = [0.3,0.3,0.3,0.3,0.3,0.3,0.3,0.3,0.7,2.5,2.5,2.5,1.4]\n",
        "plt.xticks(range(len(growth_weightings)),xlabels,rotation = 90)\n",
        "plt.scatter(range(len(growth_weightings)),value_weightings)\n",
        "plt.show()\n",
        "print(\"Value weightings sum to  \" + str(sum(value_weightings)))"
      ],
      "execution_count": null,
      "outputs": []
    },
    {
      "cell_type": "markdown",
      "metadata": {
        "id": "8-StaLJUj_Cy"
      },
      "source": [
        "Composite_Score uses the score from weighted ratings systems as well as the criteria specified by \"category\" and creates a total score for the stock depending on the category"
      ]
    },
    {
      "cell_type": "code",
      "metadata": {
        "id": "dVUnY9o7wZjy"
      },
      "source": [
        "def Composite_Score(symbol,category):\n",
        "  try:\n",
        "    symbol = symbol.upper()\n",
        "    symbol_index = list(data[\"Stock\"]).index(symbol)\n",
        "    data_list = [ data[\"Technical Value\"][symbol_index],data[\"Fundamental Value\"][symbol_index],get_rank(symbol,\"Price Target\"),\n",
        "                 get_rank(symbol,\"Large Transactions\"),get_rank(symbol,\"Composite Margin\"),get_rank(symbol,\"Resilience Value\"), \n",
        "                 get_rank(symbol,\"Fundamental Volatility\"),get_rank(symbol,\"Average EPS\"),get_rank(symbol,\"Dividend\"),get_rank(symbol,\"PEG\"),get_rank(symbol,\"P/B\"),get_rank(symbol,\"ROE\"),get_rank(symbol,\"Insider Trades\")]\n",
        "    if category == \"Growth\":\n",
        "      data_weightings = growth_weightings\n",
        "    if category == \"Momentum\":\n",
        "      data_weightings = momentum_weightings\n",
        "    if category == \"Defense\":\n",
        "      if get_rank(symbol,\"Market Cap\") < 70:\n",
        "        return -1000\n",
        "      else:\n",
        "        data_weightings = defense_weightings\n",
        "    if category == \"Large Cap\":\n",
        "      if get_rank(symbol,\"Market Cap\") < 50:\n",
        "        return -1000\n",
        "      else:\n",
        "        data_weightings = largecap_weightings\n",
        "    if category == \"Dividend\":\n",
        "      if get_rank(symbol,\"Market Cap\") < 70:\n",
        "        return -1000\n",
        "      else:\n",
        "        data_weightings = dividend_weightings\n",
        "    if category == \"Value\":\n",
        "      if get_rank(symbol,\"Market Cap\") < 100:\n",
        "        return -1000\n",
        "      else:\n",
        "        data_weightings = value_weightings\n",
        "    return np.sum(np.array(data_list) * np.array(data_weightings))\n",
        "  except:\n",
        "    return -1000"
      ],
      "execution_count": null,
      "outputs": []
    },
    {
      "cell_type": "markdown",
      "metadata": {
        "id": "964bU4FglSED"
      },
      "source": [
        "get_best returns a limited, ranked list of stocks based on a category. "
      ]
    },
    {
      "cell_type": "code",
      "metadata": {
        "id": "zI86NEkx3DqM"
      },
      "source": [
        "def get_best(stock_list,category,limit):\n",
        "  try:\n",
        "    composite_score_list = []\n",
        "    for symbol in stock_list:\n",
        "      composite_score_list.append(Composite_Score(symbol,category))\n",
        "    df = pd.DataFrame()\n",
        "    df[\"Stock\"] = stock_list \n",
        "    df[\"Score\"] = composite_score_list \n",
        "    df = df.sort_values(by=\"Score\",ascending=False)\n",
        "    return list(df[\"Stock\"][:limit])\n",
        "  except:\n",
        "    return \"na\""
      ],
      "execution_count": null,
      "outputs": []
    },
    {
      "cell_type": "markdown",
      "metadata": {
        "id": "Ln6eFwz8lhCY"
      },
      "source": [
        "several lists are created, each containing ranked list of stocks based on a category . "
      ]
    },
    {
      "cell_type": "code",
      "metadata": {
        "id": "1gdmNRfnliAh"
      },
      "source": [
        "best_growth = get_best(list(data[\"Stock\"]),\"Growth\",20)\n",
        "best_momentum = get_best(list(data[\"Stock\"]),\"Momentum\",20)\n",
        "best_defense = get_best(list(data[\"Stock\"]),\"Defense\",12)\n",
        "best_largecap = get_best(list(data[\"Stock\"]),\"Large Cap\",12)\n",
        "best_dividend = get_best(list(data[\"Stock\"]),\"Dividend\",8)\n",
        "best_value = get_best(list(data[\"Stock\"]),\"Value\",13)\n",
        "total_best = best_growth + best_momentum + best_defense + best_largecap + best_dividend + best_value"
      ],
      "execution_count": null,
      "outputs": []
    },
    {
      "cell_type": "markdown",
      "metadata": {
        "id": "dbwXZIq6lnuC"
      },
      "source": [
        "different variables such as growth_frac determine the fraction of available funds should be allocated to chosen equities within a category "
      ]
    },
    {
      "cell_type": "code",
      "metadata": {
        "id": "oZXwgnjyhUNt"
      },
      "source": [
        "fund = 3000\n",
        "growth_frac = 0.22\n",
        "momentum_frac = 0.23\n",
        "defense_frac = 0.13\n",
        "largecap_frac = 0.14\n",
        "dividend_frac = 0.14\n",
        "value_frac = 0.14\n",
        "total_frac = growth_frac + momentum_frac + defense_frac + largecap_frac + dividend_frac + value_frac\n",
        "print(total_frac)"
      ],
      "execution_count": null,
      "outputs": []
    },
    {
      "cell_type": "markdown",
      "metadata": {
        "id": "LrUOFxN7l6ce"
      },
      "source": [
        "a list for each category is created each containing an allocation for each equity that will be chosen. total_portfolio is a list that is the concatenation of all the other lists "
      ]
    },
    {
      "cell_type": "code",
      "metadata": {
        "id": "Vzr9R3XvOvOe"
      },
      "source": [
        "growth_portfolio = [ ((growth_frac * fund) / len(best_growth)) for x in best_growth]\n",
        "momentum_portfolio = [ ((momentum_frac * fund) / len(best_momentum)) for x in best_momentum]\n",
        "defense_portfolio = [ ((defense_frac * fund) / len(best_defense)) for x in best_defense]\n",
        "largecap_portfolio = [ ((largecap_frac * fund) / len(best_largecap)) for x in best_largecap]\n",
        "dividend_portfolio = [ ((dividend_frac * fund) / len(best_dividend)) for x in best_dividend]\n",
        "value_portfolio = [ ((value_frac * fund) / len(best_value)) for x in best_value]\n",
        "total_portfolio = growth_portfolio + momentum_portfolio + defense_portfolio + largecap_portfolio + dividend_portfolio + value_portfolio"
      ],
      "execution_count": null,
      "outputs": []
    },
    {
      "cell_type": "markdown",
      "metadata": {
        "id": "MwxJMw8nmK8d"
      },
      "source": [
        "portfolio is a DataFrame that has all the chosen equity based on the categories and the matching allocation for that equity "
      ]
    },
    {
      "cell_type": "code",
      "metadata": {
        "id": "hB4Pt1wNkSQY"
      },
      "source": [
        "portfolio = pd.DataFrame()\n",
        "portfolio[\"Stock\"] = total_best\n",
        "portfolio[\"Allocation\"] = total_portfolio\n",
        "portfolio[\"Weighting\"] = portfolio[\"Allocation\"] / fund"
      ],
      "execution_count": null,
      "outputs": []
    },
    {
      "cell_type": "code",
      "metadata": {
        "id": "iqTLms8rfr1d"
      },
      "source": [
        "portfolio = portfolio.groupby([\"Stock\"]).sum()"
      ],
      "execution_count": null,
      "outputs": []
    },
    {
      "cell_type": "code",
      "metadata": {
        "id": "LZ1oD25a6_EW"
      },
      "source": [
        "portfolio"
      ],
      "execution_count": null,
      "outputs": []
    },
    {
      "cell_type": "markdown",
      "metadata": {
        "id": "c_Xw20XZmk1D"
      },
      "source": [
        "annual_function returns an array of returns of the portfolio within a period. portfolio variance returns the portfolio variance of the chosen portfolio. spy_variance returns the varuiance of the US SP500"
      ]
    },
    {
      "cell_type": "code",
      "metadata": {
        "id": "aL5Wk1VhPOR3"
      },
      "source": [
        "def annual_returns(period):\n",
        "  weights = np.array(portfolio[\"Weighting\"])\n",
        "  portfolio_prices = pdr.get_data_yahoo(list(portfolio[\"Stock\"]), period=period).Close\n",
        "  yearly_returns = ((portfolio_prices.resample(\"Y\").last().pct_change().mean()*100) * weights).sum()\n",
        "  return yearly_returns\n",
        "def portfolio_variance(period):\n",
        "  portfolio_returns_log = pdr.get_data_yahoo(list(portfolio.index), period=period).Close.pct_change().apply(lambda x: np.log(1+x))\n",
        "  cov_matrix = portfolio_returns_log.cov()\n",
        "  weight_dict = dict(zip([ x.upper() for x in list(portfolio.index)], list(portfolio[\"Weighting\"])))\n",
        "  port_var = cov_matrix.mul(weight_dict, axis=0).mul(weight_dict, axis=1).sum().sum()\n",
        "  return port_var\n",
        "def spy_variance(period):\n",
        "  spy_data = pdr.get_data_yahoo(\"spy\",period=period).Close.pct_change().fillna(0)\n",
        "  return np.std(spy_data) * 100"
      ],
      "execution_count": null,
      "outputs": []
    },
    {
      "cell_type": "code",
      "metadata": {
        "id": "emrO7DzBpBHq"
      },
      "source": [
        "weighted_backtest = backtest * portfolio[\"Weighting\"]\n",
        "weighted_backtest = weighted_backtest.sum(axis = 1)\n",
        "spy_benchmark = pdr.get_data_yahoo(\"spy\",period=period).Close.pct_change().fillna(0).cumsum()\n",
        "djia_benchmark = pdr.get_data_yahoo(\"djia\",period=period).Close.pct_change().fillna(0).cumsum()"
      ],
      "execution_count": null,
      "outputs": []
    },
    {
      "cell_type": "markdown",
      "metadata": {
        "id": "_P94lBrQpEKJ"
      },
      "source": [
        "a line graph shows the visual performance of the chosen portfolio against other benchmarks within a period "
      ]
    },
    {
      "cell_type": "code",
      "metadata": {
        "colab": {
          "base_uri": "https://localhost:8080/",
          "height": 282
        },
        "id": "5rkQov4IvbCe",
        "outputId": "4667d693-90ce-4573-8bdb-4920f7f7d303"
      },
      "source": [
        "plt.plot(weighted_backtest)\n",
        "plt.plot(spy_benchmark)\n",
        "plt.plot(djia_benchmark)"
      ],
      "execution_count": null,
      "outputs": [
        {
          "output_type": "execute_result",
          "data": {
            "text/plain": [
              "[<matplotlib.lines.Line2D at 0x7fb8a4554790>]"
            ]
          },
          "metadata": {
            "tags": []
          },
          "execution_count": 46
        },
        {
          "output_type": "display_data",
          "data": {
            "image/png": "[encoded data removed]",
            "text/plain": [
              "<Figure size 432x288 with 1 Axes>"
            ]
          },
          "metadata": {
            "tags": []
          }
        }
      ]
    }
  ]
}